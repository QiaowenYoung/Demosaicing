{
 "cells": [
  {
   "cell_type": "code",
   "execution_count": 1,
   "metadata": {},
   "outputs": [],
   "source": [
    "from scipy import signal\n",
    "import matplotlib.image as image\n",
    "import matplotlib.pyplot as plt\n",
    "import cv2\n",
    "import numpy as np\n",
    "import os\n",
    "import numpy as np"
   ]
  },
  {
   "cell_type": "code",
   "execution_count": null,
   "metadata": {},
   "outputs": [],
   "source": [
    "# "
   ]
  },
  {
   "cell_type": "code",
   "execution_count": 3,
   "metadata": {},
   "outputs": [],
   "source": [
    "# bilinear\n",
    "# grbg or gbrg format\n",
    "\n",
    "R_conv = np.array([[0, 0, 0], [1, 0, 1], [0, 0, 0]]) / 4\n",
    "B_conv = np.array([[0, 1, 0], [0, 0, 0], [0, 1, 0]]) / 4\n",
    "RB_conv = np.array([[1, 0, 1], [0, 0, 0], [1, 0, 1]]) / 4\n",
    "G_conv = np.array([[0, 1, 0], [1, 0, 1], [0, 1, 0]]) / 4\n",
    "\n",
    "def Bilinear_Demosaicing(img):\n",
    "    length = img.shape[0]\n",
    "    width = img.shape[1]\n",
    "    padded_img = np.zeros(length + 2, width + 2)\n",
    "    padded_img[1:length-1, 1:length-1] = img\n",
    "    padded_img[0, 1:length-1] = padded_img[2, 1:length-1]\n",
    "    padded_img[length-1, 1:length-1] = padded_img[length-3, 1:length-1]\n",
    "    padded_img[:, 0] = padded_img[:, 2]\n",
    "    padded_img[:, length-1] = padded_img[:, length-3]\n",
    "    \n",
    "    R, G, B = np.zeros(length, width)\n",
    "    \n",
    "    # calculate G, R, B:\n",
    "    for i in range(length):\n",
    "        for j in range(length):\n",
    "            if i % 2 == j % 2:\n",
    "                G[i][j] = img[i][j]\n",
    "                if i % 2 == 0:\n",
    "                    R[i][j] = signal.convolve2d(padded_img[i:i+3, j:j+3], R_conv, 'valid')[0][0]\n",
    "                    B[i][j] = signal.convolve2d(padded_img[i:i+3, j:j+3], B_conv, 'valid')[0][0]\n",
    "                else:\n",
    "                    R[i][j] = signal.convolve2d(padded_img[i:i+3, j:j+3], B_conv, 'valid')[0][0]\n",
    "                    B[i][j] = signal.convolve2d(padded_img[i:i+3, j:j+3], R_conv, 'valid')[0][0]\n",
    "            else:\n",
    "                G[i][j] = signal.convolve2d(padded_img[i:i+3, j:j+3], G_conv, 'valid')[0][0]\n",
    "                if i % 2 == 0:\n",
    "                    R[i][j] = img[i][j]\n",
    "                    B[i][j] = signal.convolve2d(padded_img[i:i+3, j:j+3], RB_conv, 'valid')[0][0]\n",
    "                else:\n",
    "                    R[i][j] = signal.convolve2d(padded_img[i:i+3, j:j+3], RB_conv, 'valid')[0][0]\n",
    "                    B[i][j] = img[i][j]\n",
    "            j += 1\n",
    "        i += 1\n",
    "    \n",
    "    # get a 3D output image\n",
    "    img_d = np.array([R, G, B])\n",
    "    \n",
    "    return img_d"
   ]
  },
  {
   "cell_type": "code",
   "execution_count": 4,
   "metadata": {},
   "outputs": [
    {
     "name": "stdout",
     "output_type": "stream",
     "text": [
      "8.png before demosaicing:\n",
      "shape: (500, 500, 3)\n",
      "8.png after demosaicing:\n",
      "500 500\n",
      "9.png before demosaicing:\n",
      "shape: (500, 500, 3)\n"
     ]
    },
    {
     "ename": "KeyboardInterrupt",
     "evalue": "",
     "output_type": "error",
     "traceback": [
      "\u001b[0;31m---------------------------------------------------------------------------\u001b[0m",
      "\u001b[0;31mKeyboardInterrupt\u001b[0m                         Traceback (most recent call last)",
      "\u001b[0;32m<ipython-input-4-53de0fd73a54>\u001b[0m in \u001b[0;36m<module>\u001b[0;34m\u001b[0m\n\u001b[1;32m     18\u001b[0m \u001b[0;34m\u001b[0m\u001b[0m\n\u001b[1;32m     19\u001b[0m \u001b[0;34m\u001b[0m\u001b[0m\n\u001b[0;32m---> 20\u001b[0;31m \u001b[0mprocess\u001b[0m\u001b[0;34m(\u001b[0m\u001b[0mpath\u001b[0m\u001b[0;34m)\u001b[0m\u001b[0;34m\u001b[0m\u001b[0;34m\u001b[0m\u001b[0m\n\u001b[0m",
      "\u001b[0;32m<ipython-input-4-53de0fd73a54>\u001b[0m in \u001b[0;36mprocess\u001b[0;34m(path)\u001b[0m\n\u001b[1;32m      9\u001b[0m         \u001b[0mprint\u001b[0m\u001b[0;34m(\u001b[0m\u001b[0;34mf\"shape: {img.shape}\"\u001b[0m\u001b[0;34m)\u001b[0m\u001b[0;34m\u001b[0m\u001b[0;34m\u001b[0m\u001b[0m\n\u001b[1;32m     10\u001b[0m         \u001b[0mcv2\u001b[0m\u001b[0;34m.\u001b[0m\u001b[0mimshow\u001b[0m\u001b[0;34m(\u001b[0m\u001b[0;34mf\"{file}\"\u001b[0m\u001b[0;34m,\u001b[0m \u001b[0mimg\u001b[0m\u001b[0;34m)\u001b[0m\u001b[0;34m\u001b[0m\u001b[0;34m\u001b[0m\u001b[0m\n\u001b[0;32m---> 11\u001b[0;31m         \u001b[0mcv2\u001b[0m\u001b[0;34m.\u001b[0m\u001b[0mwaitKey\u001b[0m\u001b[0;34m(\u001b[0m\u001b[0;36m3000\u001b[0m\u001b[0;34m)\u001b[0m\u001b[0;34m\u001b[0m\u001b[0;34m\u001b[0m\u001b[0m\n\u001b[0m\u001b[1;32m     12\u001b[0m \u001b[0;34m\u001b[0m\u001b[0m\n\u001b[1;32m     13\u001b[0m         \u001b[0mprint\u001b[0m\u001b[0;34m(\u001b[0m\u001b[0;34mf\"{file} after demosaicing:\"\u001b[0m\u001b[0;34m)\u001b[0m\u001b[0;34m\u001b[0m\u001b[0;34m\u001b[0m\u001b[0m\n",
      "\u001b[0;31mKeyboardInterrupt\u001b[0m: "
     ]
    }
   ],
   "source": [
    "# process inputs\n",
    "\n",
    "path = \"/Users/qiaowenyang/Desktop/22ss/jssxx/labs/Codingproject/inputs/Demosaicing\"\n",
    "def process(path):\n",
    "    for file in os.listdir(path):\n",
    "        print(f\"{file} before demosaicing:\")\n",
    "        filename = os.path.join(path, file)\n",
    "        img = cv2.imread(filename)\n",
    "        print(f\"shape: {img.shape}\")\n",
    "        cv2.imshow(f\"{file}\", img)\n",
    "        cv2.waitKey(3000)\n",
    "        \n",
    "        print(f\"{file} after demosaicing:\")\n",
    "        img_d = Bilinear_Demosaicing(img)\n",
    "        cv2.imshow(f\"demosaicing_{file}\", img)\n",
    "        cv2.waitKey(3000)\n",
    "        cv2.destroyAllWindows()\n",
    "        \n",
    "\n",
    "process(path)"
   ]
  },
  {
   "cell_type": "code",
   "execution_count": null,
   "metadata": {},
   "outputs": [],
   "source": [
    "    "
   ]
  }
 ],
 "metadata": {
  "kernelspec": {
   "display_name": "Python 3.7.4 64-bit ('base': conda)",
   "language": "python",
   "name": "python37464bitbasecondac398b823a387452389d3d9b405b8505b"
  },
  "language_info": {
   "codemirror_mode": {
    "name": "ipython",
    "version": 3
   },
   "file_extension": ".py",
   "mimetype": "text/x-python",
   "name": "python",
   "nbconvert_exporter": "python",
   "pygments_lexer": "ipython3",
   "version": "3.7.4"
  }
 },
 "nbformat": 4,
 "nbformat_minor": 2
}
